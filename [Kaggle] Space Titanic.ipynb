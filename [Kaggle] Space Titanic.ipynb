{
 "cells": [
  {
   "cell_type": "markdown",
   "id": "b2eb0530",
   "metadata": {},
   "source": [
    "# [Kaggle] Space Titanic"
   ]
  },
  {
   "cell_type": "markdown",
   "id": "0fff6dbc",
   "metadata": {},
   "source": [
    "## 1.개요"
   ]
  },
  {
   "cell_type": "markdown",
   "id": "aeae5768",
   "metadata": {},
   "source": [
    "https://www.kaggle.com/competitions/spaceship-titanic  \n",
    "'Spaceship-titanic'은 캐글 연습용으로 제공 되는 컴피티션입니다. 주어진 데이터들을 이용해 탑승객이 다른 차원으로 이동 되었는 지 여부를 확인하는 **이진분류 문제**입니다."
   ]
  },
  {
   "cell_type": "markdown",
   "id": "6d8f70be",
   "metadata": {},
   "source": [
    "---"
   ]
  },
  {
   "cell_type": "markdown",
   "id": "b531dbc2",
   "metadata": {},
   "source": [
    "## 2. 데이터 준비"
   ]
  },
  {
   "cell_type": "code",
   "execution_count": 1,
   "id": "c8a15e75",
   "metadata": {},
   "outputs": [],
   "source": [
    "import numpy as np\n",
    "import pandas as pd\n",
    "import matplotlib.pyplot as plt\n",
    "import seaborn as sns"
   ]
  },
  {
   "cell_type": "code",
   "execution_count": 2,
   "id": "f1d9ef51",
   "metadata": {},
   "outputs": [],
   "source": [
    "train=pd.read_csv('/Users/gyol/Documents/Kaggle/spaceship-titanic/train.csv')\n",
    "test=pd.read_csv('/Users/gyol/Documents/Kaggle/spaceship-titanic/test.csv')"
   ]
  },
  {
   "cell_type": "code",
   "execution_count": 3,
   "id": "e17f3ce5",
   "metadata": {},
   "outputs": [
    {
     "data": {
      "text/html": [
       "<div>\n",
       "<style scoped>\n",
       "    .dataframe tbody tr th:only-of-type {\n",
       "        vertical-align: middle;\n",
       "    }\n",
       "\n",
       "    .dataframe tbody tr th {\n",
       "        vertical-align: top;\n",
       "    }\n",
       "\n",
       "    .dataframe thead th {\n",
       "        text-align: right;\n",
       "    }\n",
       "</style>\n",
       "<table border=\"1\" class=\"dataframe\">\n",
       "  <thead>\n",
       "    <tr style=\"text-align: right;\">\n",
       "      <th></th>\n",
       "      <th>PassengerId</th>\n",
       "      <th>HomePlanet</th>\n",
       "      <th>CryoSleep</th>\n",
       "      <th>Cabin</th>\n",
       "      <th>Destination</th>\n",
       "      <th>Age</th>\n",
       "      <th>VIP</th>\n",
       "      <th>RoomService</th>\n",
       "      <th>FoodCourt</th>\n",
       "      <th>ShoppingMall</th>\n",
       "      <th>Spa</th>\n",
       "      <th>VRDeck</th>\n",
       "      <th>Name</th>\n",
       "      <th>Transported</th>\n",
       "    </tr>\n",
       "  </thead>\n",
       "  <tbody>\n",
       "    <tr>\n",
       "      <th>0</th>\n",
       "      <td>0001_01</td>\n",
       "      <td>Europa</td>\n",
       "      <td>False</td>\n",
       "      <td>B/0/P</td>\n",
       "      <td>TRAPPIST-1e</td>\n",
       "      <td>39.0</td>\n",
       "      <td>False</td>\n",
       "      <td>0.0</td>\n",
       "      <td>0.0</td>\n",
       "      <td>0.0</td>\n",
       "      <td>0.0</td>\n",
       "      <td>0.0</td>\n",
       "      <td>Maham Ofracculy</td>\n",
       "      <td>False</td>\n",
       "    </tr>\n",
       "    <tr>\n",
       "      <th>1</th>\n",
       "      <td>0002_01</td>\n",
       "      <td>Earth</td>\n",
       "      <td>False</td>\n",
       "      <td>F/0/S</td>\n",
       "      <td>TRAPPIST-1e</td>\n",
       "      <td>24.0</td>\n",
       "      <td>False</td>\n",
       "      <td>109.0</td>\n",
       "      <td>9.0</td>\n",
       "      <td>25.0</td>\n",
       "      <td>549.0</td>\n",
       "      <td>44.0</td>\n",
       "      <td>Juanna Vines</td>\n",
       "      <td>True</td>\n",
       "    </tr>\n",
       "    <tr>\n",
       "      <th>2</th>\n",
       "      <td>0003_01</td>\n",
       "      <td>Europa</td>\n",
       "      <td>False</td>\n",
       "      <td>A/0/S</td>\n",
       "      <td>TRAPPIST-1e</td>\n",
       "      <td>58.0</td>\n",
       "      <td>True</td>\n",
       "      <td>43.0</td>\n",
       "      <td>3576.0</td>\n",
       "      <td>0.0</td>\n",
       "      <td>6715.0</td>\n",
       "      <td>49.0</td>\n",
       "      <td>Altark Susent</td>\n",
       "      <td>False</td>\n",
       "    </tr>\n",
       "    <tr>\n",
       "      <th>3</th>\n",
       "      <td>0003_02</td>\n",
       "      <td>Europa</td>\n",
       "      <td>False</td>\n",
       "      <td>A/0/S</td>\n",
       "      <td>TRAPPIST-1e</td>\n",
       "      <td>33.0</td>\n",
       "      <td>False</td>\n",
       "      <td>0.0</td>\n",
       "      <td>1283.0</td>\n",
       "      <td>371.0</td>\n",
       "      <td>3329.0</td>\n",
       "      <td>193.0</td>\n",
       "      <td>Solam Susent</td>\n",
       "      <td>False</td>\n",
       "    </tr>\n",
       "    <tr>\n",
       "      <th>4</th>\n",
       "      <td>0004_01</td>\n",
       "      <td>Earth</td>\n",
       "      <td>False</td>\n",
       "      <td>F/1/S</td>\n",
       "      <td>TRAPPIST-1e</td>\n",
       "      <td>16.0</td>\n",
       "      <td>False</td>\n",
       "      <td>303.0</td>\n",
       "      <td>70.0</td>\n",
       "      <td>151.0</td>\n",
       "      <td>565.0</td>\n",
       "      <td>2.0</td>\n",
       "      <td>Willy Santantines</td>\n",
       "      <td>True</td>\n",
       "    </tr>\n",
       "  </tbody>\n",
       "</table>\n",
       "</div>"
      ],
      "text/plain": [
       "  PassengerId HomePlanet CryoSleep  Cabin  Destination   Age    VIP  \\\n",
       "0     0001_01     Europa     False  B/0/P  TRAPPIST-1e  39.0  False   \n",
       "1     0002_01      Earth     False  F/0/S  TRAPPIST-1e  24.0  False   \n",
       "2     0003_01     Europa     False  A/0/S  TRAPPIST-1e  58.0   True   \n",
       "3     0003_02     Europa     False  A/0/S  TRAPPIST-1e  33.0  False   \n",
       "4     0004_01      Earth     False  F/1/S  TRAPPIST-1e  16.0  False   \n",
       "\n",
       "   RoomService  FoodCourt  ShoppingMall     Spa  VRDeck               Name  \\\n",
       "0          0.0        0.0           0.0     0.0     0.0    Maham Ofracculy   \n",
       "1        109.0        9.0          25.0   549.0    44.0       Juanna Vines   \n",
       "2         43.0     3576.0           0.0  6715.0    49.0      Altark Susent   \n",
       "3          0.0     1283.0         371.0  3329.0   193.0       Solam Susent   \n",
       "4        303.0       70.0         151.0   565.0     2.0  Willy Santantines   \n",
       "\n",
       "   Transported  \n",
       "0        False  \n",
       "1         True  \n",
       "2        False  \n",
       "3        False  \n",
       "4         True  "
      ]
     },
     "execution_count": 3,
     "metadata": {},
     "output_type": "execute_result"
    }
   ],
   "source": [
    "train.head()"
   ]
  },
  {
   "cell_type": "markdown",
   "id": "83388cba",
   "metadata": {},
   "source": [
    "### 데이터 용어 정리\n",
    "* **PassengerId** - 각 승객마다 고유한 ID가 있습니다. 이 각각의 ID는 승객이 함께 여행하는 그룹을 나타내는 \"gggg\"와 해당 그룹 내에서의 승객 번호를 나타내는 \"pp\"로 구성됩니다. 그룹 내의 사람들은 주로 가족 구성원이지만 항상 그렇지는 않습니다.\n",
    "* **HomePlanet** - 탑승객이 출발한 행성입니다. 출발한 행성은 일반적으로 그들의 거주 행성입니다.\n",
    "* **CryoSleep** - 이 항목은 승객이 항해 기간 동안 움직임이 없는 상태로 여정을 하고싶은지 여부를 나타냅니다. CryoSleep에 있는 승객은 자신의 선실에 가두어져 있습니다.  \n",
    "* **Cabin** - 승객이 머무는 선실 번호입니다. 승객이 머무는 선실 번호는 \"deck/num/side\" 형식을 취하며, 여기서 \"side\"는 Port(포트)를 나타내는 \"P\" 또는 Starboard(스타보드)를 나타내는 \"S\" 중 하나가 될 수 있습니다.  \n",
    "* **Destination** - 탑승객이 가는 목적지 행성입니다.  \n",
    "* **Age** - 탑승객의 나이입니다.  \n",
    "* **VIP** - 탑승객이 일정 금액을 더 내서 얻은 VIP 여부입니다.  \n",
    "* **RoomService, FoodCourt, ShoppingMall, Spa, VRDeck** - 타이타닉 호에서 제공하는 각종 편의 시설에 탑승객이 지불한 비용입니다.  \n",
    "* **Name** - 탑승객의 성과 이름입니다.  \n",
    "* **Transported** - 탑승객이 다른 차원으로 이동했는지 여부입니다. 이 열이 저희가 얻고자 하는 **Target** 입니다."
   ]
  },
  {
   "cell_type": "markdown",
   "id": "95e13753",
   "metadata": {},
   "source": [
    "---"
   ]
  },
  {
   "cell_type": "markdown",
   "id": "815e3c29",
   "metadata": {},
   "source": [
    "## 3. 데이터 분석"
   ]
  },
  {
   "cell_type": "code",
   "execution_count": 4,
   "id": "d6502aa1",
   "metadata": {},
   "outputs": [
    {
     "data": {
      "text/plain": [
       "(8693, 14)"
      ]
     },
     "execution_count": 4,
     "metadata": {},
     "output_type": "execute_result"
    }
   ],
   "source": [
    "train.shape"
   ]
  },
  {
   "cell_type": "code",
   "execution_count": 5,
   "id": "150e86e8",
   "metadata": {},
   "outputs": [
    {
     "data": {
      "text/plain": [
       "(4277, 13)"
      ]
     },
     "execution_count": 5,
     "metadata": {},
     "output_type": "execute_result"
    }
   ],
   "source": [
    "test.shape"
   ]
  },
  {
   "cell_type": "code",
   "execution_count": 6,
   "id": "c18877a6",
   "metadata": {},
   "outputs": [
    {
     "name": "stdout",
     "output_type": "stream",
     "text": [
      "<class 'pandas.core.frame.DataFrame'>\n",
      "RangeIndex: 8693 entries, 0 to 8692\n",
      "Data columns (total 14 columns):\n",
      " #   Column        Non-Null Count  Dtype  \n",
      "---  ------        --------------  -----  \n",
      " 0   PassengerId   8693 non-null   object \n",
      " 1   HomePlanet    8492 non-null   object \n",
      " 2   CryoSleep     8476 non-null   object \n",
      " 3   Cabin         8494 non-null   object \n",
      " 4   Destination   8511 non-null   object \n",
      " 5   Age           8514 non-null   float64\n",
      " 6   VIP           8490 non-null   object \n",
      " 7   RoomService   8512 non-null   float64\n",
      " 8   FoodCourt     8510 non-null   float64\n",
      " 9   ShoppingMall  8485 non-null   float64\n",
      " 10  Spa           8510 non-null   float64\n",
      " 11  VRDeck        8505 non-null   float64\n",
      " 12  Name          8493 non-null   object \n",
      " 13  Transported   8693 non-null   bool   \n",
      "dtypes: bool(1), float64(6), object(7)\n",
      "memory usage: 891.5+ KB\n"
     ]
    }
   ],
   "source": [
    "train.info()"
   ]
  },
  {
   "cell_type": "markdown",
   "id": "b04add9a",
   "metadata": {},
   "source": [
    "채워야 할 결측지가 모든 열에서 존재한다는 것을 확인 할 수 있습니다. **데이터 타입**에 따라 해석하겠습니다."
   ]
  },
  {
   "cell_type": "code",
   "execution_count": 7,
   "id": "3589e872",
   "metadata": {},
   "outputs": [
    {
     "name": "stdout",
     "output_type": "stream",
     "text": [
      "전체 인원 수는 8693명이다. 그 중 다른 차원으로 이동 된 인원은 4378명이고, 이동률은 50.36%이다.\n"
     ]
    }
   ],
   "source": [
    "print('전체 인원 수는 {}명이다. 그 중 다른 차원으로 이동 된 인원은 {}명이고, 이동률은 {}%이다.'\n",
    "      .format(len(train['Transported']),\n",
    "              (train['Transported'] == True).sum(),\n",
    "              round(((train['Transported'] == True).sum())/(len(train['Transported']))*100,2)\n",
    "             )\n",
    "     )"
   ]
  },
  {
   "cell_type": "markdown",
   "id": "674975bb",
   "metadata": {},
   "source": [
    "### 3-1. 수치형 데이터"
   ]
  },
  {
   "cell_type": "code",
   "execution_count": 8,
   "id": "f7214c7f",
   "metadata": {},
   "outputs": [
    {
     "data": {
      "image/png": "[encoded data removed]",
      "text/plain": [
       "<Figure size 1000x1000 with 6 Axes>"
      ]
     },
     "metadata": {},
     "output_type": "display_data"
    }
   ],
   "source": [
    "%matplotlib inline\n",
    "train.hist(bins=50,figsize=(10,10))\n",
    "plt.show()"
   ]
  },
  {
   "cell_type": "markdown",
   "id": "a5a28ffe",
   "metadata": {},
   "source": [
    "Age를 제외한 나머지 열은 지불한 비용의 분포를 의미합니다. 이 때 극단적으로 비용을 지불한 소수의 탑승객이 존재하고, 나머지는 대부분 0에 가까운 비용을 냈다는 것을 확인 할 수 있습니다."
   ]
  },
  {
   "cell_type": "markdown",
   "id": "1936ca0e",
   "metadata": {},
   "source": [
    "### 3-2. 오브젝트형 데이터"
   ]
  },
  {
   "cell_type": "markdown",
   "id": "0dd7c3a4",
   "metadata": {},
   "source": [
    "오브젝트형 데이터 중에 PassenID와 Cabin처럼 한 데이터 안에 여러 정보를 내포하고 있는 데이터부터 우선 나누겠습니다."
   ]
  },
  {
   "cell_type": "code",
   "execution_count": 9,
   "id": "b5853e99",
   "metadata": {},
   "outputs": [],
   "source": [
    "train_sliced=train.copy()\n",
    "train_sliced[['PassengerId_group','PassengerId_member']]=train_sliced['PassengerId'].str.split('_',expand=True)\n",
    "train_sliced[['Cabin_Deck', 'Cabin_Num', 'Cabin_Side']]=train_sliced['Cabin'].str.split('/',expand=True)"
   ]
  },
  {
   "cell_type": "markdown",
   "id": "e1bc70e6",
   "metadata": {},
   "source": [
    "각 열의 데이터는 어떤 값이 존재하며, 어떻게 분포 되어 있는지 표를 통해 확인 해보겠습니다."
   ]
  },
  {
   "cell_type": "code",
   "execution_count": 10,
   "id": "52f89707",
   "metadata": {},
   "outputs": [
    {
     "data": {
      "text/html": [
       "<div>\n",
       "<style scoped>\n",
       "    .dataframe tbody tr th:only-of-type {\n",
       "        vertical-align: middle;\n",
       "    }\n",
       "\n",
       "    .dataframe tbody tr th {\n",
       "        vertical-align: top;\n",
       "    }\n",
       "\n",
       "    .dataframe thead th {\n",
       "        text-align: right;\n",
       "    }\n",
       "</style>\n",
       "<table border=\"1\" class=\"dataframe\">\n",
       "  <thead>\n",
       "    <tr style=\"text-align: right;\">\n",
       "      <th></th>\n",
       "      <th>PassengerId</th>\n",
       "      <th>HomePlanet</th>\n",
       "      <th>CryoSleep</th>\n",
       "      <th>Cabin</th>\n",
       "      <th>Destination</th>\n",
       "      <th>Age</th>\n",
       "      <th>VIP</th>\n",
       "      <th>RoomService</th>\n",
       "      <th>FoodCourt</th>\n",
       "      <th>ShoppingMall</th>\n",
       "      <th>Spa</th>\n",
       "      <th>VRDeck</th>\n",
       "      <th>Name</th>\n",
       "      <th>Transported</th>\n",
       "      <th>PassengerId_group</th>\n",
       "      <th>PassengerId_member</th>\n",
       "      <th>Cabin_Deck</th>\n",
       "      <th>Cabin_Num</th>\n",
       "      <th>Cabin_Side</th>\n",
       "    </tr>\n",
       "  </thead>\n",
       "  <tbody>\n",
       "    <tr>\n",
       "      <th>0</th>\n",
       "      <td>0001_01</td>\n",
       "      <td>Europa</td>\n",
       "      <td>False</td>\n",
       "      <td>B/0/P</td>\n",
       "      <td>TRAPPIST-1e</td>\n",
       "      <td>39.0</td>\n",
       "      <td>False</td>\n",
       "      <td>0.0</td>\n",
       "      <td>0.0</td>\n",
       "      <td>0.0</td>\n",
       "      <td>0.0</td>\n",
       "      <td>0.0</td>\n",
       "      <td>Maham Ofracculy</td>\n",
       "      <td>False</td>\n",
       "      <td>0001</td>\n",
       "      <td>01</td>\n",
       "      <td>B</td>\n",
       "      <td>0</td>\n",
       "      <td>P</td>\n",
       "    </tr>\n",
       "    <tr>\n",
       "      <th>1</th>\n",
       "      <td>0002_01</td>\n",
       "      <td>Earth</td>\n",
       "      <td>False</td>\n",
       "      <td>F/0/S</td>\n",
       "      <td>TRAPPIST-1e</td>\n",
       "      <td>24.0</td>\n",
       "      <td>False</td>\n",
       "      <td>109.0</td>\n",
       "      <td>9.0</td>\n",
       "      <td>25.0</td>\n",
       "      <td>549.0</td>\n",
       "      <td>44.0</td>\n",
       "      <td>Juanna Vines</td>\n",
       "      <td>True</td>\n",
       "      <td>0002</td>\n",
       "      <td>01</td>\n",
       "      <td>F</td>\n",
       "      <td>0</td>\n",
       "      <td>S</td>\n",
       "    </tr>\n",
       "    <tr>\n",
       "      <th>2</th>\n",
       "      <td>0003_01</td>\n",
       "      <td>Europa</td>\n",
       "      <td>False</td>\n",
       "      <td>A/0/S</td>\n",
       "      <td>TRAPPIST-1e</td>\n",
       "      <td>58.0</td>\n",
       "      <td>True</td>\n",
       "      <td>43.0</td>\n",
       "      <td>3576.0</td>\n",
       "      <td>0.0</td>\n",
       "      <td>6715.0</td>\n",
       "      <td>49.0</td>\n",
       "      <td>Altark Susent</td>\n",
       "      <td>False</td>\n",
       "      <td>0003</td>\n",
       "      <td>01</td>\n",
       "      <td>A</td>\n",
       "      <td>0</td>\n",
       "      <td>S</td>\n",
       "    </tr>\n",
       "    <tr>\n",
       "      <th>3</th>\n",
       "      <td>0003_02</td>\n",
       "      <td>Europa</td>\n",
       "      <td>False</td>\n",
       "      <td>A/0/S</td>\n",
       "      <td>TRAPPIST-1e</td>\n",
       "      <td>33.0</td>\n",
       "      <td>False</td>\n",
       "      <td>0.0</td>\n",
       "      <td>1283.0</td>\n",
       "      <td>371.0</td>\n",
       "      <td>3329.0</td>\n",
       "      <td>193.0</td>\n",
       "      <td>Solam Susent</td>\n",
       "      <td>False</td>\n",
       "      <td>0003</td>\n",
       "      <td>02</td>\n",
       "      <td>A</td>\n",
       "      <td>0</td>\n",
       "      <td>S</td>\n",
       "    </tr>\n",
       "    <tr>\n",
       "      <th>4</th>\n",
       "      <td>0004_01</td>\n",
       "      <td>Earth</td>\n",
       "      <td>False</td>\n",
       "      <td>F/1/S</td>\n",
       "      <td>TRAPPIST-1e</td>\n",
       "      <td>16.0</td>\n",
       "      <td>False</td>\n",
       "      <td>303.0</td>\n",
       "      <td>70.0</td>\n",
       "      <td>151.0</td>\n",
       "      <td>565.0</td>\n",
       "      <td>2.0</td>\n",
       "      <td>Willy Santantines</td>\n",
       "      <td>True</td>\n",
       "      <td>0004</td>\n",
       "      <td>01</td>\n",
       "      <td>F</td>\n",
       "      <td>1</td>\n",
       "      <td>S</td>\n",
       "    </tr>\n",
       "  </tbody>\n",
       "</table>\n",
       "</div>"
      ],
      "text/plain": [
       "  PassengerId HomePlanet CryoSleep  Cabin  Destination   Age    VIP  \\\n",
       "0     0001_01     Europa     False  B/0/P  TRAPPIST-1e  39.0  False   \n",
       "1     0002_01      Earth     False  F/0/S  TRAPPIST-1e  24.0  False   \n",
       "2     0003_01     Europa     False  A/0/S  TRAPPIST-1e  58.0   True   \n",
       "3     0003_02     Europa     False  A/0/S  TRAPPIST-1e  33.0  False   \n",
       "4     0004_01      Earth     False  F/1/S  TRAPPIST-1e  16.0  False   \n",
       "\n",
       "   RoomService  FoodCourt  ShoppingMall     Spa  VRDeck               Name  \\\n",
       "0          0.0        0.0           0.0     0.0     0.0    Maham Ofracculy   \n",
       "1        109.0        9.0          25.0   549.0    44.0       Juanna Vines   \n",
       "2         43.0     3576.0           0.0  6715.0    49.0      Altark Susent   \n",
       "3          0.0     1283.0         371.0  3329.0   193.0       Solam Susent   \n",
       "4        303.0       70.0         151.0   565.0     2.0  Willy Santantines   \n",
       "\n",
       "   Transported PassengerId_group PassengerId_member Cabin_Deck Cabin_Num  \\\n",
       "0        False              0001                 01          B         0   \n",
       "1         True              0002                 01          F         0   \n",
       "2        False              0003                 01          A         0   \n",
       "3        False              0003                 02          A         0   \n",
       "4         True              0004                 01          F         1   \n",
       "\n",
       "  Cabin_Side  \n",
       "0          P  \n",
       "1          S  \n",
       "2          S  \n",
       "3          S  \n",
       "4          S  "
      ]
     },
     "execution_count": 10,
     "metadata": {},
     "output_type": "execute_result"
    }
   ],
   "source": [
    "train_sliced.head()"
   ]
  },
  {
   "cell_type": "code",
   "execution_count": 11,
   "id": "60f463cf",
   "metadata": {},
   "outputs": [],
   "source": [
    "def tp_rate(feature): #tp_rate는 원하는 열의 각 데이터의 이동한 인원, 안 한 인원, 이동 비율을 나타내는 함수입니다.\n",
    "    transported=train_sliced[train_sliced['Transported']==1][feature].value_counts(dropna=False)\n",
    "    not_transported=train_sliced[train_sliced['Transported']==0][feature].value_counts(dropna=False)\n",
    "    transported_rate = round((transported / (transported + not_transported)) * 100,1)\n",
    "    \n",
    "    result_df = pd.DataFrame({\n",
    "        '이동 비율(%)': transported_rate,\n",
    "        '이동 됨': transported,\n",
    "        '이동 안됨': not_transported,\n",
    "        '인원 합계': train_sliced[feature].value_counts(dropna=False)\n",
    "    })\n",
    "    return result_df.fillna(0)"
   ]
  },
  {
   "cell_type": "code",
   "execution_count": 12,
   "id": "e787b190",
   "metadata": {},
   "outputs": [
    {
     "data": {
      "text/html": [
       "<div>\n",
       "<style scoped>\n",
       "    .dataframe tbody tr th:only-of-type {\n",
       "        vertical-align: middle;\n",
       "    }\n",
       "\n",
       "    .dataframe tbody tr th {\n",
       "        vertical-align: top;\n",
       "    }\n",
       "\n",
       "    .dataframe thead th {\n",
       "        text-align: right;\n",
       "    }\n",
       "</style>\n",
       "<table border=\"1\" class=\"dataframe\">\n",
       "  <thead>\n",
       "    <tr style=\"text-align: right;\">\n",
       "      <th></th>\n",
       "      <th>이동 비율(%)</th>\n",
       "      <th>이동 됨</th>\n",
       "      <th>이동 안됨</th>\n",
       "      <th>인원 합계</th>\n",
       "    </tr>\n",
       "  </thead>\n",
       "  <tbody>\n",
       "    <tr>\n",
       "      <th>0001</th>\n",
       "      <td>0.0</td>\n",
       "      <td>0.0</td>\n",
       "      <td>1.0</td>\n",
       "      <td>1</td>\n",
       "    </tr>\n",
       "    <tr>\n",
       "      <th>0002</th>\n",
       "      <td>0.0</td>\n",
       "      <td>1.0</td>\n",
       "      <td>0.0</td>\n",
       "      <td>1</td>\n",
       "    </tr>\n",
       "    <tr>\n",
       "      <th>0003</th>\n",
       "      <td>0.0</td>\n",
       "      <td>0.0</td>\n",
       "      <td>2.0</td>\n",
       "      <td>2</td>\n",
       "    </tr>\n",
       "    <tr>\n",
       "      <th>0004</th>\n",
       "      <td>0.0</td>\n",
       "      <td>1.0</td>\n",
       "      <td>0.0</td>\n",
       "      <td>1</td>\n",
       "    </tr>\n",
       "    <tr>\n",
       "      <th>0005</th>\n",
       "      <td>0.0</td>\n",
       "      <td>1.0</td>\n",
       "      <td>0.0</td>\n",
       "      <td>1</td>\n",
       "    </tr>\n",
       "    <tr>\n",
       "      <th>...</th>\n",
       "      <td>...</td>\n",
       "      <td>...</td>\n",
       "      <td>...</td>\n",
       "      <td>...</td>\n",
       "    </tr>\n",
       "    <tr>\n",
       "      <th>9275</th>\n",
       "      <td>66.7</td>\n",
       "      <td>2.0</td>\n",
       "      <td>1.0</td>\n",
       "      <td>3</td>\n",
       "    </tr>\n",
       "    <tr>\n",
       "      <th>9276</th>\n",
       "      <td>0.0</td>\n",
       "      <td>0.0</td>\n",
       "      <td>1.0</td>\n",
       "      <td>1</td>\n",
       "    </tr>\n",
       "    <tr>\n",
       "      <th>9278</th>\n",
       "      <td>0.0</td>\n",
       "      <td>0.0</td>\n",
       "      <td>1.0</td>\n",
       "      <td>1</td>\n",
       "    </tr>\n",
       "    <tr>\n",
       "      <th>9279</th>\n",
       "      <td>0.0</td>\n",
       "      <td>1.0</td>\n",
       "      <td>0.0</td>\n",
       "      <td>1</td>\n",
       "    </tr>\n",
       "    <tr>\n",
       "      <th>9280</th>\n",
       "      <td>50.0</td>\n",
       "      <td>1.0</td>\n",
       "      <td>1.0</td>\n",
       "      <td>2</td>\n",
       "    </tr>\n",
       "  </tbody>\n",
       "</table>\n",
       "<p>6217 rows × 4 columns</p>\n",
       "</div>"
      ],
      "text/plain": [
       "      이동 비율(%)  이동 됨  이동 안됨  인원 합계\n",
       "0001       0.0   0.0    1.0      1\n",
       "0002       0.0   1.0    0.0      1\n",
       "0003       0.0   0.0    2.0      2\n",
       "0004       0.0   1.0    0.0      1\n",
       "0005       0.0   1.0    0.0      1\n",
       "...        ...   ...    ...    ...\n",
       "9275      66.7   2.0    1.0      3\n",
       "9276       0.0   0.0    1.0      1\n",
       "9278       0.0   0.0    1.0      1\n",
       "9279       0.0   1.0    0.0      1\n",
       "9280      50.0   1.0    1.0      2\n",
       "\n",
       "[6217 rows x 4 columns]"
      ]
     },
     "execution_count": 12,
     "metadata": {},
     "output_type": "execute_result"
    }
   ],
   "source": [
    "tp_rate('PassengerId_group')"
   ]
  },
  {
   "cell_type": "markdown",
   "id": "1f37c7e7",
   "metadata": {},
   "source": [
    "PassengerId_group의 데이터값은 매우 많다는 것을 확인 할 수 있습니다."
   ]
  },
  {
   "cell_type": "code",
   "execution_count": 13,
   "id": "77ea42bf",
   "metadata": {},
   "outputs": [
    {
     "data": {
      "text/html": [
       "<div>\n",
       "<style scoped>\n",
       "    .dataframe tbody tr th:only-of-type {\n",
       "        vertical-align: middle;\n",
       "    }\n",
       "\n",
       "    .dataframe tbody tr th {\n",
       "        vertical-align: top;\n",
       "    }\n",
       "\n",
       "    .dataframe thead th {\n",
       "        text-align: right;\n",
       "    }\n",
       "</style>\n",
       "<table border=\"1\" class=\"dataframe\">\n",
       "  <thead>\n",
       "    <tr style=\"text-align: right;\">\n",
       "      <th></th>\n",
       "      <th>이동 비율(%)</th>\n",
       "      <th>이동 됨</th>\n",
       "      <th>이동 안됨</th>\n",
       "      <th>인원 합계</th>\n",
       "    </tr>\n",
       "  </thead>\n",
       "  <tbody>\n",
       "    <tr>\n",
       "      <th>01</th>\n",
       "      <td>47.6</td>\n",
       "      <td>2959</td>\n",
       "      <td>3258</td>\n",
       "      <td>6217</td>\n",
       "    </tr>\n",
       "    <tr>\n",
       "      <th>02</th>\n",
       "      <td>55.9</td>\n",
       "      <td>789</td>\n",
       "      <td>623</td>\n",
       "      <td>1412</td>\n",
       "    </tr>\n",
       "    <tr>\n",
       "      <th>03</th>\n",
       "      <td>61.8</td>\n",
       "      <td>353</td>\n",
       "      <td>218</td>\n",
       "      <td>571</td>\n",
       "    </tr>\n",
       "    <tr>\n",
       "      <th>04</th>\n",
       "      <td>59.3</td>\n",
       "      <td>137</td>\n",
       "      <td>94</td>\n",
       "      <td>231</td>\n",
       "    </tr>\n",
       "    <tr>\n",
       "      <th>05</th>\n",
       "      <td>54.7</td>\n",
       "      <td>70</td>\n",
       "      <td>58</td>\n",
       "      <td>128</td>\n",
       "    </tr>\n",
       "    <tr>\n",
       "      <th>06</th>\n",
       "      <td>54.7</td>\n",
       "      <td>41</td>\n",
       "      <td>34</td>\n",
       "      <td>75</td>\n",
       "    </tr>\n",
       "    <tr>\n",
       "      <th>07</th>\n",
       "      <td>50.0</td>\n",
       "      <td>23</td>\n",
       "      <td>23</td>\n",
       "      <td>46</td>\n",
       "    </tr>\n",
       "    <tr>\n",
       "      <th>08</th>\n",
       "      <td>46.2</td>\n",
       "      <td>6</td>\n",
       "      <td>7</td>\n",
       "      <td>13</td>\n",
       "    </tr>\n",
       "  </tbody>\n",
       "</table>\n",
       "</div>"
      ],
      "text/plain": [
       "    이동 비율(%)  이동 됨  이동 안됨  인원 합계\n",
       "01      47.6  2959   3258   6217\n",
       "02      55.9   789    623   1412\n",
       "03      61.8   353    218    571\n",
       "04      59.3   137     94    231\n",
       "05      54.7    70     58    128\n",
       "06      54.7    41     34     75\n",
       "07      50.0    23     23     46\n",
       "08      46.2     6      7     13"
      ]
     },
     "execution_count": 13,
     "metadata": {},
     "output_type": "execute_result"
    }
   ],
   "source": [
    "tp_rate('PassengerId_member')"
   ]
  },
  {
   "cell_type": "markdown",
   "id": "3d17022f",
   "metadata": {},
   "source": [
    "엄청난 차이를 낸 것은 아니지만, 같은 그룹 내에서도 3,4번 숫자를 가진 사람의 이동 비율이 높다는 것을 확인 할 수 있었습니다. 그리고 1,8번을 가진 사람은 이동 비율이 적다는 것을 확인 할 수 있었습니다."
   ]
  },
  {
   "cell_type": "code",
   "execution_count": 14,
   "id": "1d546fd3",
   "metadata": {
    "scrolled": true
   },
   "outputs": [
    {
     "data": {
      "text/html": [
       "<div>\n",
       "<style scoped>\n",
       "    .dataframe tbody tr th:only-of-type {\n",
       "        vertical-align: middle;\n",
       "    }\n",
       "\n",
       "    .dataframe tbody tr th {\n",
       "        vertical-align: top;\n",
       "    }\n",
       "\n",
       "    .dataframe thead th {\n",
       "        text-align: right;\n",
       "    }\n",
       "</style>\n",
       "<table border=\"1\" class=\"dataframe\">\n",
       "  <thead>\n",
       "    <tr style=\"text-align: right;\">\n",
       "      <th></th>\n",
       "      <th>이동 비율(%)</th>\n",
       "      <th>이동 됨</th>\n",
       "      <th>이동 안됨</th>\n",
       "      <th>인원 합계</th>\n",
       "    </tr>\n",
       "  </thead>\n",
       "  <tbody>\n",
       "    <tr>\n",
       "      <th>NaN</th>\n",
       "      <td>51.2</td>\n",
       "      <td>103</td>\n",
       "      <td>98</td>\n",
       "      <td>201</td>\n",
       "    </tr>\n",
       "    <tr>\n",
       "      <th>Earth</th>\n",
       "      <td>42.4</td>\n",
       "      <td>1951</td>\n",
       "      <td>2651</td>\n",
       "      <td>4602</td>\n",
       "    </tr>\n",
       "    <tr>\n",
       "      <th>Europa</th>\n",
       "      <td>65.9</td>\n",
       "      <td>1404</td>\n",
       "      <td>727</td>\n",
       "      <td>2131</td>\n",
       "    </tr>\n",
       "    <tr>\n",
       "      <th>Mars</th>\n",
       "      <td>52.3</td>\n",
       "      <td>920</td>\n",
       "      <td>839</td>\n",
       "      <td>1759</td>\n",
       "    </tr>\n",
       "  </tbody>\n",
       "</table>\n",
       "</div>"
      ],
      "text/plain": [
       "        이동 비율(%)  이동 됨  이동 안됨  인원 합계\n",
       "NaN         51.2   103     98    201\n",
       "Earth       42.4  1951   2651   4602\n",
       "Europa      65.9  1404    727   2131\n",
       "Mars        52.3   920    839   1759"
      ]
     },
     "execution_count": 14,
     "metadata": {},
     "output_type": "execute_result"
    }
   ],
   "source": [
    "tp_rate('HomePlanet')"
   ]
  },
  {
   "cell_type": "markdown",
   "id": "0cda38d2",
   "metadata": {},
   "source": [
    "1. 'Earth'에서 출발한 인원이 가장 적게 이동 되었고, 'Europa'에서 가장 많은 인원이 이동 된 것을 확인 할 수 있습니다.\n",
    "2. HomePlanet의 결측치는 'Mars'와 분포가 매우 유사한 것을 확인 할 수 있습니다. 따라서 HomePlanet의 결측치는 'Mars'로 대체하는 것이 합리적이라 판단했습니다."
   ]
  },
  {
   "cell_type": "code",
   "execution_count": 15,
   "id": "d99fa1af",
   "metadata": {},
   "outputs": [
    {
     "data": {
      "text/html": [
       "<div>\n",
       "<style scoped>\n",
       "    .dataframe tbody tr th:only-of-type {\n",
       "        vertical-align: middle;\n",
       "    }\n",
       "\n",
       "    .dataframe tbody tr th {\n",
       "        vertical-align: top;\n",
       "    }\n",
       "\n",
       "    .dataframe thead th {\n",
       "        text-align: right;\n",
       "    }\n",
       "</style>\n",
       "<table border=\"1\" class=\"dataframe\">\n",
       "  <thead>\n",
       "    <tr style=\"text-align: right;\">\n",
       "      <th></th>\n",
       "      <th>이동 비율(%)</th>\n",
       "      <th>이동 됨</th>\n",
       "      <th>이동 안됨</th>\n",
       "      <th>인원 합계</th>\n",
       "    </tr>\n",
       "  </thead>\n",
       "  <tbody>\n",
       "    <tr>\n",
       "      <th>False</th>\n",
       "      <td>32.9</td>\n",
       "      <td>1789</td>\n",
       "      <td>3650</td>\n",
       "      <td>5439</td>\n",
       "    </tr>\n",
       "    <tr>\n",
       "      <th>True</th>\n",
       "      <td>81.8</td>\n",
       "      <td>2483</td>\n",
       "      <td>554</td>\n",
       "      <td>3037</td>\n",
       "    </tr>\n",
       "    <tr>\n",
       "      <th>NaN</th>\n",
       "      <td>48.8</td>\n",
       "      <td>106</td>\n",
       "      <td>111</td>\n",
       "      <td>217</td>\n",
       "    </tr>\n",
       "  </tbody>\n",
       "</table>\n",
       "</div>"
      ],
      "text/plain": [
       "       이동 비율(%)  이동 됨  이동 안됨  인원 합계\n",
       "False      32.9  1789   3650   5439\n",
       "True       81.8  2483    554   3037\n",
       "NaN        48.8   106    111    217"
      ]
     },
     "execution_count": 15,
     "metadata": {},
     "output_type": "execute_result"
    }
   ],
   "source": [
    "tp_rate('CryoSleep')"
   ]
  },
  {
   "cell_type": "markdown",
   "id": "d5be9b5c",
   "metadata": {},
   "source": [
    "1. CryoSleep을 한 인원은 다수가 이동 되었음을 확인 할 수 있습니다. 안 한 인원은 이동 하지 않았을 가능성이 비교적 큽니다.\n",
    "2. CryoSleep에서는 결측치와 비슷한 분포를 찾을 수 없습니다. 확률적으로 고르게 분포하기 위해 'ffill', 즉 앞의 데이터로 채우겠습니다."
   ]
  },
  {
   "cell_type": "code",
   "execution_count": 16,
   "id": "1804237e",
   "metadata": {},
   "outputs": [
    {
     "data": {
      "text/html": [
       "<div>\n",
       "<style scoped>\n",
       "    .dataframe tbody tr th:only-of-type {\n",
       "        vertical-align: middle;\n",
       "    }\n",
       "\n",
       "    .dataframe tbody tr th {\n",
       "        vertical-align: top;\n",
       "    }\n",
       "\n",
       "    .dataframe thead th {\n",
       "        text-align: right;\n",
       "    }\n",
       "</style>\n",
       "<table border=\"1\" class=\"dataframe\">\n",
       "  <thead>\n",
       "    <tr style=\"text-align: right;\">\n",
       "      <th></th>\n",
       "      <th>이동 비율(%)</th>\n",
       "      <th>이동 됨</th>\n",
       "      <th>이동 안됨</th>\n",
       "      <th>인원 합계</th>\n",
       "    </tr>\n",
       "  </thead>\n",
       "  <tbody>\n",
       "    <tr>\n",
       "      <th>TRAPPIST-1e</th>\n",
       "      <td>47.1</td>\n",
       "      <td>2787</td>\n",
       "      <td>3128</td>\n",
       "      <td>5915</td>\n",
       "    </tr>\n",
       "    <tr>\n",
       "      <th>55 Cancri e</th>\n",
       "      <td>61.0</td>\n",
       "      <td>1098</td>\n",
       "      <td>702</td>\n",
       "      <td>1800</td>\n",
       "    </tr>\n",
       "    <tr>\n",
       "      <th>PSO J318.5-22</th>\n",
       "      <td>50.4</td>\n",
       "      <td>401</td>\n",
       "      <td>395</td>\n",
       "      <td>796</td>\n",
       "    </tr>\n",
       "    <tr>\n",
       "      <th>NaN</th>\n",
       "      <td>50.5</td>\n",
       "      <td>92</td>\n",
       "      <td>90</td>\n",
       "      <td>182</td>\n",
       "    </tr>\n",
       "  </tbody>\n",
       "</table>\n",
       "</div>"
      ],
      "text/plain": [
       "               이동 비율(%)  이동 됨  이동 안됨  인원 합계\n",
       "TRAPPIST-1e        47.1  2787   3128   5915\n",
       "55 Cancri e        61.0  1098    702   1800\n",
       "PSO J318.5-22      50.4   401    395    796\n",
       "NaN                50.5    92     90    182"
      ]
     },
     "execution_count": 16,
     "metadata": {},
     "output_type": "execute_result"
    }
   ],
   "source": [
    "tp_rate('Destination')"
   ]
  },
  {
   "cell_type": "markdown",
   "id": "fcff6819",
   "metadata": {},
   "source": [
    "1. 도착예정지가 '55 Cancri e'인 탑승객은 비교적 많이 이동 되었고, 'TRAPPIST-1e'는 비교적 적은 것을 확인 할 수 있습니다.\n",
    "2. Destination의 결측치는 'PSO J318.5-22'의 분포와 매우 유사합니다. 따라서 Destination의 결측치는 'PSO J318.5-22'로 대체하겠습니다."
   ]
  },
  {
   "cell_type": "code",
   "execution_count": 17,
   "id": "67d38752",
   "metadata": {},
   "outputs": [
    {
     "data": {
      "text/html": [
       "<div>\n",
       "<style scoped>\n",
       "    .dataframe tbody tr th:only-of-type {\n",
       "        vertical-align: middle;\n",
       "    }\n",
       "\n",
       "    .dataframe tbody tr th {\n",
       "        vertical-align: top;\n",
       "    }\n",
       "\n",
       "    .dataframe thead th {\n",
       "        text-align: right;\n",
       "    }\n",
       "</style>\n",
       "<table border=\"1\" class=\"dataframe\">\n",
       "  <thead>\n",
       "    <tr style=\"text-align: right;\">\n",
       "      <th></th>\n",
       "      <th>이동 비율(%)</th>\n",
       "      <th>이동 됨</th>\n",
       "      <th>이동 안됨</th>\n",
       "      <th>인원 합계</th>\n",
       "    </tr>\n",
       "  </thead>\n",
       "  <tbody>\n",
       "    <tr>\n",
       "      <th>NaN</th>\n",
       "      <td>50.3</td>\n",
       "      <td>100</td>\n",
       "      <td>99</td>\n",
       "      <td>199</td>\n",
       "    </tr>\n",
       "    <tr>\n",
       "      <th>A</th>\n",
       "      <td>49.6</td>\n",
       "      <td>127</td>\n",
       "      <td>129</td>\n",
       "      <td>256</td>\n",
       "    </tr>\n",
       "    <tr>\n",
       "      <th>B</th>\n",
       "      <td>73.4</td>\n",
       "      <td>572</td>\n",
       "      <td>207</td>\n",
       "      <td>779</td>\n",
       "    </tr>\n",
       "    <tr>\n",
       "      <th>C</th>\n",
       "      <td>68.0</td>\n",
       "      <td>508</td>\n",
       "      <td>239</td>\n",
       "      <td>747</td>\n",
       "    </tr>\n",
       "    <tr>\n",
       "      <th>D</th>\n",
       "      <td>43.3</td>\n",
       "      <td>207</td>\n",
       "      <td>271</td>\n",
       "      <td>478</td>\n",
       "    </tr>\n",
       "    <tr>\n",
       "      <th>E</th>\n",
       "      <td>35.7</td>\n",
       "      <td>313</td>\n",
       "      <td>563</td>\n",
       "      <td>876</td>\n",
       "    </tr>\n",
       "    <tr>\n",
       "      <th>F</th>\n",
       "      <td>44.0</td>\n",
       "      <td>1229</td>\n",
       "      <td>1565</td>\n",
       "      <td>2794</td>\n",
       "    </tr>\n",
       "    <tr>\n",
       "      <th>G</th>\n",
       "      <td>51.6</td>\n",
       "      <td>1321</td>\n",
       "      <td>1238</td>\n",
       "      <td>2559</td>\n",
       "    </tr>\n",
       "    <tr>\n",
       "      <th>T</th>\n",
       "      <td>20.0</td>\n",
       "      <td>1</td>\n",
       "      <td>4</td>\n",
       "      <td>5</td>\n",
       "    </tr>\n",
       "  </tbody>\n",
       "</table>\n",
       "</div>"
      ],
      "text/plain": [
       "     이동 비율(%)  이동 됨  이동 안됨  인원 합계\n",
       "NaN      50.3   100     99    199\n",
       "A        49.6   127    129    256\n",
       "B        73.4   572    207    779\n",
       "C        68.0   508    239    747\n",
       "D        43.3   207    271    478\n",
       "E        35.7   313    563    876\n",
       "F        44.0  1229   1565   2794\n",
       "G        51.6  1321   1238   2559\n",
       "T        20.0     1      4      5"
      ]
     },
     "execution_count": 17,
     "metadata": {},
     "output_type": "execute_result"
    }
   ],
   "source": [
    "tp_rate('Cabin_Deck')"
   ]
  },
  {
   "cell_type": "markdown",
   "id": "b8380a63",
   "metadata": {},
   "source": [
    "1. 선실 타입에 따라 이동 비율이 다르다는 것을 확인 할 수 있습니다.\n",
    "2. Cabin_Deck에서는 결측치와 비슷한 분포를 찾을 수 없습니다. 확률적으로 고르게 분포하기 위해 'ffill', 즉 앞의 데이터로 채우겠습니다."
   ]
  },
  {
   "cell_type": "code",
   "execution_count": 18,
   "id": "c564e902",
   "metadata": {},
   "outputs": [
    {
     "data": {
      "text/html": [
       "<div>\n",
       "<style scoped>\n",
       "    .dataframe tbody tr th:only-of-type {\n",
       "        vertical-align: middle;\n",
       "    }\n",
       "\n",
       "    .dataframe tbody tr th {\n",
       "        vertical-align: top;\n",
       "    }\n",
       "\n",
       "    .dataframe thead th {\n",
       "        text-align: right;\n",
       "    }\n",
       "</style>\n",
       "<table border=\"1\" class=\"dataframe\">\n",
       "  <thead>\n",
       "    <tr style=\"text-align: right;\">\n",
       "      <th></th>\n",
       "      <th>이동 비율(%)</th>\n",
       "      <th>이동 됨</th>\n",
       "      <th>이동 안됨</th>\n",
       "      <th>인원 합계</th>\n",
       "    </tr>\n",
       "  </thead>\n",
       "  <tbody>\n",
       "    <tr>\n",
       "      <th>NaN</th>\n",
       "      <td>50.3</td>\n",
       "      <td>100.0</td>\n",
       "      <td>99.0</td>\n",
       "      <td>199</td>\n",
       "    </tr>\n",
       "    <tr>\n",
       "      <th>0</th>\n",
       "      <td>33.3</td>\n",
       "      <td>6.0</td>\n",
       "      <td>12.0</td>\n",
       "      <td>18</td>\n",
       "    </tr>\n",
       "    <tr>\n",
       "      <th>1</th>\n",
       "      <td>66.7</td>\n",
       "      <td>10.0</td>\n",
       "      <td>5.0</td>\n",
       "      <td>15</td>\n",
       "    </tr>\n",
       "    <tr>\n",
       "      <th>10</th>\n",
       "      <td>50.0</td>\n",
       "      <td>6.0</td>\n",
       "      <td>6.0</td>\n",
       "      <td>12</td>\n",
       "    </tr>\n",
       "    <tr>\n",
       "      <th>100</th>\n",
       "      <td>58.3</td>\n",
       "      <td>7.0</td>\n",
       "      <td>5.0</td>\n",
       "      <td>12</td>\n",
       "    </tr>\n",
       "    <tr>\n",
       "      <th>...</th>\n",
       "      <td>...</td>\n",
       "      <td>...</td>\n",
       "      <td>...</td>\n",
       "      <td>...</td>\n",
       "    </tr>\n",
       "    <tr>\n",
       "      <th>995</th>\n",
       "      <td>66.7</td>\n",
       "      <td>2.0</td>\n",
       "      <td>1.0</td>\n",
       "      <td>3</td>\n",
       "    </tr>\n",
       "    <tr>\n",
       "      <th>996</th>\n",
       "      <td>0.0</td>\n",
       "      <td>1.0</td>\n",
       "      <td>0.0</td>\n",
       "      <td>1</td>\n",
       "    </tr>\n",
       "    <tr>\n",
       "      <th>997</th>\n",
       "      <td>0.0</td>\n",
       "      <td>0.0</td>\n",
       "      <td>2.0</td>\n",
       "      <td>2</td>\n",
       "    </tr>\n",
       "    <tr>\n",
       "      <th>998</th>\n",
       "      <td>25.0</td>\n",
       "      <td>1.0</td>\n",
       "      <td>3.0</td>\n",
       "      <td>4</td>\n",
       "    </tr>\n",
       "    <tr>\n",
       "      <th>999</th>\n",
       "      <td>83.3</td>\n",
       "      <td>5.0</td>\n",
       "      <td>1.0</td>\n",
       "      <td>6</td>\n",
       "    </tr>\n",
       "  </tbody>\n",
       "</table>\n",
       "<p>1818 rows × 4 columns</p>\n",
       "</div>"
      ],
      "text/plain": [
       "     이동 비율(%)   이동 됨  이동 안됨  인원 합계\n",
       "NaN      50.3  100.0   99.0    199\n",
       "0        33.3    6.0   12.0     18\n",
       "1        66.7   10.0    5.0     15\n",
       "10       50.0    6.0    6.0     12\n",
       "100      58.3    7.0    5.0     12\n",
       "..        ...    ...    ...    ...\n",
       "995      66.7    2.0    1.0      3\n",
       "996       0.0    1.0    0.0      1\n",
       "997       0.0    0.0    2.0      2\n",
       "998      25.0    1.0    3.0      4\n",
       "999      83.3    5.0    1.0      6\n",
       "\n",
       "[1818 rows x 4 columns]"
      ]
     },
     "execution_count": 18,
     "metadata": {},
     "output_type": "execute_result"
    }
   ],
   "source": [
    "tp_rate('Cabin_Num')"
   ]
  },
  {
   "cell_type": "markdown",
   "id": "02825593",
   "metadata": {},
   "source": [
    "PassengerId_group의 데이터값은 매우 많다는 것을 확인 할 수 있습니다."
   ]
  },
  {
   "cell_type": "code",
   "execution_count": 19,
   "id": "b7596f80",
   "metadata": {},
   "outputs": [
    {
     "data": {
      "text/html": [
       "<div>\n",
       "<style scoped>\n",
       "    .dataframe tbody tr th:only-of-type {\n",
       "        vertical-align: middle;\n",
       "    }\n",
       "\n",
       "    .dataframe tbody tr th {\n",
       "        vertical-align: top;\n",
       "    }\n",
       "\n",
       "    .dataframe thead th {\n",
       "        text-align: right;\n",
       "    }\n",
       "</style>\n",
       "<table border=\"1\" class=\"dataframe\">\n",
       "  <thead>\n",
       "    <tr style=\"text-align: right;\">\n",
       "      <th></th>\n",
       "      <th>이동 비율(%)</th>\n",
       "      <th>이동 됨</th>\n",
       "      <th>이동 안됨</th>\n",
       "      <th>인원 합계</th>\n",
       "    </tr>\n",
       "  </thead>\n",
       "  <tbody>\n",
       "    <tr>\n",
       "      <th>NaN</th>\n",
       "      <td>50.3</td>\n",
       "      <td>100</td>\n",
       "      <td>99</td>\n",
       "      <td>199</td>\n",
       "    </tr>\n",
       "    <tr>\n",
       "      <th>P</th>\n",
       "      <td>45.1</td>\n",
       "      <td>1898</td>\n",
       "      <td>2308</td>\n",
       "      <td>4206</td>\n",
       "    </tr>\n",
       "    <tr>\n",
       "      <th>S</th>\n",
       "      <td>55.5</td>\n",
       "      <td>2380</td>\n",
       "      <td>1908</td>\n",
       "      <td>4288</td>\n",
       "    </tr>\n",
       "  </tbody>\n",
       "</table>\n",
       "</div>"
      ],
      "text/plain": [
       "     이동 비율(%)  이동 됨  이동 안됨  인원 합계\n",
       "NaN      50.3   100     99    199\n",
       "P        45.1  1898   2308   4206\n",
       "S        55.5  2380   1908   4288"
      ]
     },
     "execution_count": 19,
     "metadata": {},
     "output_type": "execute_result"
    }
   ],
   "source": [
    "tp_rate('Cabin_Side')"
   ]
  },
  {
   "cell_type": "markdown",
   "id": "b38035b7",
   "metadata": {},
   "source": [
    "Cabin_Side에서는 결측치와 비슷한 분포를 찾을 수 없습니다. 확률적으로 고르게 분포하기 위해 'ffill', 즉 앞의 데이터로 채우겠습니다."
   ]
  },
  {
   "cell_type": "code",
   "execution_count": 20,
   "id": "4add77e3",
   "metadata": {},
   "outputs": [
    {
     "data": {
      "text/html": [
       "<div>\n",
       "<style scoped>\n",
       "    .dataframe tbody tr th:only-of-type {\n",
       "        vertical-align: middle;\n",
       "    }\n",
       "\n",
       "    .dataframe tbody tr th {\n",
       "        vertical-align: top;\n",
       "    }\n",
       "\n",
       "    .dataframe thead th {\n",
       "        text-align: right;\n",
       "    }\n",
       "</style>\n",
       "<table border=\"1\" class=\"dataframe\">\n",
       "  <thead>\n",
       "    <tr style=\"text-align: right;\">\n",
       "      <th></th>\n",
       "      <th>이동 비율(%)</th>\n",
       "      <th>이동 됨</th>\n",
       "      <th>이동 안됨</th>\n",
       "      <th>인원 합계</th>\n",
       "    </tr>\n",
       "  </thead>\n",
       "  <tbody>\n",
       "    <tr>\n",
       "      <th>False</th>\n",
       "      <td>50.6</td>\n",
       "      <td>4198</td>\n",
       "      <td>4093</td>\n",
       "      <td>8291</td>\n",
       "    </tr>\n",
       "    <tr>\n",
       "      <th>NaN</th>\n",
       "      <td>51.2</td>\n",
       "      <td>104</td>\n",
       "      <td>99</td>\n",
       "      <td>203</td>\n",
       "    </tr>\n",
       "    <tr>\n",
       "      <th>True</th>\n",
       "      <td>38.2</td>\n",
       "      <td>76</td>\n",
       "      <td>123</td>\n",
       "      <td>199</td>\n",
       "    </tr>\n",
       "  </tbody>\n",
       "</table>\n",
       "</div>"
      ],
      "text/plain": [
       "       이동 비율(%)  이동 됨  이동 안됨  인원 합계\n",
       "False      50.6  4198   4093   8291\n",
       "NaN        51.2   104     99    203\n",
       "True       38.2    76    123    199"
      ]
     },
     "execution_count": 20,
     "metadata": {},
     "output_type": "execute_result"
    }
   ],
   "source": [
    "tp_rate('VIP')"
   ]
  },
  {
   "cell_type": "markdown",
   "id": "7b943ae6",
   "metadata": {},
   "source": [
    "VIP의 결측치는 'False'의 분포와 유사합니다. 따라서 VIP의 결측치는 'False'로 대체하겠습니다."
   ]
  },
  {
   "cell_type": "markdown",
   "id": "11dd6114",
   "metadata": {},
   "source": [
    "---"
   ]
  },
  {
   "cell_type": "markdown",
   "id": "f9e556e8",
   "metadata": {},
   "source": [
    "## 4. 결측치 처리"
   ]
  },
  {
   "cell_type": "code",
   "execution_count": 21,
   "id": "b100bb3e",
   "metadata": {},
   "outputs": [],
   "source": [
    "train_droptp=train.drop('Transported',axis=1,inplace=False)"
   ]
  },
  {
   "cell_type": "code",
   "execution_count": 22,
   "id": "4d6ae19a",
   "metadata": {},
   "outputs": [],
   "source": [
    "total_data=pd.concat([train_droptp,test])"
   ]
  },
  {
   "cell_type": "code",
   "execution_count": 23,
   "id": "611172d6",
   "metadata": {},
   "outputs": [
    {
     "data": {
      "text/plain": [
       "(12970, 13)"
      ]
     },
     "execution_count": 23,
     "metadata": {},
     "output_type": "execute_result"
    }
   ],
   "source": [
    "total_data.shape"
   ]
  },
  {
   "cell_type": "markdown",
   "id": "6b18f95f",
   "metadata": {},
   "source": [
    "Train과 Test에서 결측치를 없애기 위해 우선 두 데이터를 합치는 작업을 했습니다. Test 에는 Transported 열이 없기에 train 에서 해당 열을 삭제 한 뒤 합쳤습니다."
   ]
  },
  {
   "cell_type": "code",
   "execution_count": 24,
   "id": "47c3e877",
   "metadata": {
    "scrolled": true
   },
   "outputs": [
    {
     "data": {
      "text/plain": [
       "PassengerId       0\n",
       "HomePlanet      288\n",
       "CryoSleep       310\n",
       "Cabin           299\n",
       "Destination     274\n",
       "Age             270\n",
       "VIP             296\n",
       "RoomService     263\n",
       "FoodCourt       289\n",
       "ShoppingMall    306\n",
       "Spa             284\n",
       "VRDeck          268\n",
       "Name            294\n",
       "dtype: int64"
      ]
     },
     "execution_count": 24,
     "metadata": {},
     "output_type": "execute_result"
    }
   ],
   "source": [
    "total_data.isnull().sum()"
   ]
  },
  {
   "cell_type": "markdown",
   "id": "fbadf591",
   "metadata": {},
   "source": [
    "### 4-1. 수치형 데이터"
   ]
  },
  {
   "cell_type": "code",
   "execution_count": 25,
   "id": "d035f3e0",
   "metadata": {},
   "outputs": [],
   "source": [
    "columns_to_fill = ['Age','RoomService', 'FoodCourt', 'ShoppingMall', 'Spa', 'VRDeck']\n",
    "\n",
    "for column in columns_to_fill:\n",
    "    median_value = total_data[column].median()\n",
    "    total_data[column].fillna(median_value, inplace=True)"
   ]
  },
  {
   "cell_type": "markdown",
   "id": "e72804a6",
   "metadata": {},
   "source": [
    "수치형 데이터는 대부분 0 쪽에 몰려 있고, 최대값은 극단적으로 크기 때문에 평균은 쓰지 않았습니다. 대신 중간값으로 결측치를 채웠습니다."
   ]
  },
  {
   "cell_type": "markdown",
   "id": "d0d5c1e8",
   "metadata": {},
   "source": [
    "### 4-2. 오브젝트형 데이터"
   ]
  },
  {
   "cell_type": "code",
   "execution_count": 26,
   "id": "827be6c3",
   "metadata": {},
   "outputs": [],
   "source": [
    "total_data['HomePlanet'].fillna('Mars',inplace=True)\n",
    "total_data['CryoSleep'].fillna(method='ffill',inplace=True)\n",
    "total_data['Destination'].fillna('PSO J318.5-22',inplace=True)\n",
    "total_data['VIP'].fillna(method='ffill',inplace=True)"
   ]
  },
  {
   "cell_type": "markdown",
   "id": "ff71741f",
   "metadata": {},
   "source": [
    "PassengerId를 제외한 나머지 범주형 데이터를 가진 행의 Null을 채우겠습니다. 채운 기준은 데이터 분석 과정에서 내린 결론입니다. Cabin 또한 여러 데이터를 포함하기에 나눠보겠습니다."
   ]
  },
  {
   "cell_type": "code",
   "execution_count": 27,
   "id": "3b3a44ee",
   "metadata": {},
   "outputs": [],
   "source": [
    "total_data[['Cabin_Deck', 'Cabin_Num', 'Cabin_Side']] = total_data['Cabin'].str.split('/', expand=True)\n",
    "total_data.drop('Cabin',axis=1,inplace=True)"
   ]
  },
  {
   "cell_type": "code",
   "execution_count": 28,
   "id": "6fded9db",
   "metadata": {},
   "outputs": [],
   "source": [
    "total_data['Cabin_Deck'].fillna(method='ffill',inplace=True)\n",
    "total_data['Cabin_Num'].fillna(method='ffill',inplace=True)\n",
    "total_data['Cabin_Side'].fillna(method='ffill',inplace=True)"
   ]
  },
  {
   "cell_type": "code",
   "execution_count": 29,
   "id": "c13fd0e9",
   "metadata": {},
   "outputs": [],
   "source": [
    "total_data[['PassengerId_group', 'PassengerId_member']] = total_data['PassengerId'].str.split('_', expand=True)"
   ]
  },
  {
   "cell_type": "code",
   "execution_count": 30,
   "id": "64b4fd83",
   "metadata": {},
   "outputs": [],
   "source": [
    "total_data.drop('Name',axis=1,inplace=True)\n",
    "total_data.drop('PassengerId',axis=1,inplace=True) #머신 러닝에 사용하지 않는 열은 삭제했습니다."
   ]
  },
  {
   "cell_type": "code",
   "execution_count": 31,
   "id": "9c5df46f",
   "metadata": {},
   "outputs": [
    {
     "data": {
      "text/html": [
       "<div>\n",
       "<style scoped>\n",
       "    .dataframe tbody tr th:only-of-type {\n",
       "        vertical-align: middle;\n",
       "    }\n",
       "\n",
       "    .dataframe tbody tr th {\n",
       "        vertical-align: top;\n",
       "    }\n",
       "\n",
       "    .dataframe thead th {\n",
       "        text-align: right;\n",
       "    }\n",
       "</style>\n",
       "<table border=\"1\" class=\"dataframe\">\n",
       "  <thead>\n",
       "    <tr style=\"text-align: right;\">\n",
       "      <th></th>\n",
       "      <th>HomePlanet</th>\n",
       "      <th>CryoSleep</th>\n",
       "      <th>Destination</th>\n",
       "      <th>Age</th>\n",
       "      <th>VIP</th>\n",
       "      <th>RoomService</th>\n",
       "      <th>FoodCourt</th>\n",
       "      <th>ShoppingMall</th>\n",
       "      <th>Spa</th>\n",
       "      <th>VRDeck</th>\n",
       "      <th>Cabin_Deck</th>\n",
       "      <th>Cabin_Num</th>\n",
       "      <th>Cabin_Side</th>\n",
       "      <th>PassengerId_group</th>\n",
       "      <th>PassengerId_member</th>\n",
       "    </tr>\n",
       "  </thead>\n",
       "  <tbody>\n",
       "    <tr>\n",
       "      <th>0</th>\n",
       "      <td>Europa</td>\n",
       "      <td>False</td>\n",
       "      <td>TRAPPIST-1e</td>\n",
       "      <td>39.0</td>\n",
       "      <td>False</td>\n",
       "      <td>0.0</td>\n",
       "      <td>0.0</td>\n",
       "      <td>0.0</td>\n",
       "      <td>0.0</td>\n",
       "      <td>0.0</td>\n",
       "      <td>B</td>\n",
       "      <td>0</td>\n",
       "      <td>P</td>\n",
       "      <td>0001</td>\n",
       "      <td>01</td>\n",
       "    </tr>\n",
       "    <tr>\n",
       "      <th>1</th>\n",
       "      <td>Earth</td>\n",
       "      <td>False</td>\n",
       "      <td>TRAPPIST-1e</td>\n",
       "      <td>24.0</td>\n",
       "      <td>False</td>\n",
       "      <td>109.0</td>\n",
       "      <td>9.0</td>\n",
       "      <td>25.0</td>\n",
       "      <td>549.0</td>\n",
       "      <td>44.0</td>\n",
       "      <td>F</td>\n",
       "      <td>0</td>\n",
       "      <td>S</td>\n",
       "      <td>0002</td>\n",
       "      <td>01</td>\n",
       "    </tr>\n",
       "    <tr>\n",
       "      <th>2</th>\n",
       "      <td>Europa</td>\n",
       "      <td>False</td>\n",
       "      <td>TRAPPIST-1e</td>\n",
       "      <td>58.0</td>\n",
       "      <td>True</td>\n",
       "      <td>43.0</td>\n",
       "      <td>3576.0</td>\n",
       "      <td>0.0</td>\n",
       "      <td>6715.0</td>\n",
       "      <td>49.0</td>\n",
       "      <td>A</td>\n",
       "      <td>0</td>\n",
       "      <td>S</td>\n",
       "      <td>0003</td>\n",
       "      <td>01</td>\n",
       "    </tr>\n",
       "    <tr>\n",
       "      <th>3</th>\n",
       "      <td>Europa</td>\n",
       "      <td>False</td>\n",
       "      <td>TRAPPIST-1e</td>\n",
       "      <td>33.0</td>\n",
       "      <td>False</td>\n",
       "      <td>0.0</td>\n",
       "      <td>1283.0</td>\n",
       "      <td>371.0</td>\n",
       "      <td>3329.0</td>\n",
       "      <td>193.0</td>\n",
       "      <td>A</td>\n",
       "      <td>0</td>\n",
       "      <td>S</td>\n",
       "      <td>0003</td>\n",
       "      <td>02</td>\n",
       "    </tr>\n",
       "    <tr>\n",
       "      <th>4</th>\n",
       "      <td>Earth</td>\n",
       "      <td>False</td>\n",
       "      <td>TRAPPIST-1e</td>\n",
       "      <td>16.0</td>\n",
       "      <td>False</td>\n",
       "      <td>303.0</td>\n",
       "      <td>70.0</td>\n",
       "      <td>151.0</td>\n",
       "      <td>565.0</td>\n",
       "      <td>2.0</td>\n",
       "      <td>F</td>\n",
       "      <td>1</td>\n",
       "      <td>S</td>\n",
       "      <td>0004</td>\n",
       "      <td>01</td>\n",
       "    </tr>\n",
       "  </tbody>\n",
       "</table>\n",
       "</div>"
      ],
      "text/plain": [
       "  HomePlanet  CryoSleep  Destination   Age    VIP  RoomService  FoodCourt  \\\n",
       "0     Europa      False  TRAPPIST-1e  39.0  False          0.0        0.0   \n",
       "1      Earth      False  TRAPPIST-1e  24.0  False        109.0        9.0   \n",
       "2     Europa      False  TRAPPIST-1e  58.0   True         43.0     3576.0   \n",
       "3     Europa      False  TRAPPIST-1e  33.0  False          0.0     1283.0   \n",
       "4      Earth      False  TRAPPIST-1e  16.0  False        303.0       70.0   \n",
       "\n",
       "   ShoppingMall     Spa  VRDeck Cabin_Deck Cabin_Num Cabin_Side  \\\n",
       "0           0.0     0.0     0.0          B         0          P   \n",
       "1          25.0   549.0    44.0          F         0          S   \n",
       "2           0.0  6715.0    49.0          A         0          S   \n",
       "3         371.0  3329.0   193.0          A         0          S   \n",
       "4         151.0   565.0     2.0          F         1          S   \n",
       "\n",
       "  PassengerId_group PassengerId_member  \n",
       "0              0001                 01  \n",
       "1              0002                 01  \n",
       "2              0003                 01  \n",
       "3              0003                 02  \n",
       "4              0004                 01  "
      ]
     },
     "execution_count": 31,
     "metadata": {},
     "output_type": "execute_result"
    }
   ],
   "source": [
    "total_data.head()"
   ]
  },
  {
   "cell_type": "markdown",
   "id": "6b65cbf5",
   "metadata": {},
   "source": [
    "## 5. 데이터 맵핑"
   ]
  },
  {
   "cell_type": "code",
   "execution_count": 32,
   "id": "155fb1b2",
   "metadata": {},
   "outputs": [],
   "source": [
    "Cabin_Deck_mapping={'A':1,'B':2,'C':3,'D':4,'E':5,'F':6,'G':7,'T':8}\n",
    "total_data['Cabin_Deck']=total_data['Cabin_Deck'].map(Cabin_Deck_mapping)\n",
    "\n",
    "Cabin_Side_mapping={'P':1,'S':2}\n",
    "total_data['Cabin_Side']=total_data['Cabin_Side'].map(Cabin_Side_mapping)\n",
    "\n",
    "HomePlanet_mapping={'Europa':1,'Earth':2,'Mars':3}\n",
    "total_data['HomePlanet']=total_data['HomePlanet'].map(HomePlanet_mapping)\n",
    "\n",
    "Destination_mapping={'TRAPPIST-1e':1,'55 Cancri e':2,'PSO J318.5-22':3}\n",
    "total_data['Destination']=total_data['Destination'].map(Destination_mapping)"
   ]
  },
  {
   "cell_type": "code",
   "execution_count": 33,
   "id": "8b2e3cd4",
   "metadata": {},
   "outputs": [],
   "source": [
    "TF_mapping = {'False': 0, 'True': 1}\n",
    "total_data['CryoSleep'].replace(TF_mapping, inplace=True)\n",
    "total_data['VIP'].replace(TF_mapping, inplace=True)"
   ]
  },
  {
   "cell_type": "code",
   "execution_count": 35,
   "id": "e9358d1c",
   "metadata": {},
   "outputs": [
    {
     "name": "stdout",
     "output_type": "stream",
     "text": [
      "<class 'pandas.core.frame.DataFrame'>\n",
      "Int64Index: 12970 entries, 0 to 4276\n",
      "Data columns (total 15 columns):\n",
      " #   Column              Non-Null Count  Dtype  \n",
      "---  ------              --------------  -----  \n",
      " 0   HomePlanet          12970 non-null  int64  \n",
      " 1   CryoSleep           12970 non-null  bool   \n",
      " 2   Destination         12970 non-null  int64  \n",
      " 3   Age                 12970 non-null  float64\n",
      " 4   VIP                 12970 non-null  bool   \n",
      " 5   RoomService         12970 non-null  float64\n",
      " 6   FoodCourt           12970 non-null  float64\n",
      " 7   ShoppingMall        12970 non-null  float64\n",
      " 8   Spa                 12970 non-null  float64\n",
      " 9   VRDeck              12970 non-null  float64\n",
      " 10  Cabin_Deck          12970 non-null  int64  \n",
      " 11  Cabin_Num           12970 non-null  int64  \n",
      " 12  Cabin_Side          12970 non-null  int64  \n",
      " 13  PassengerId_group   12970 non-null  int64  \n",
      " 14  PassengerId_member  12970 non-null  int64  \n",
      "dtypes: bool(2), float64(6), int64(7)\n",
      "memory usage: 1.4 MB\n"
     ]
    }
   ],
   "source": [
    "total_data['PassengerId_group'] = total_data['PassengerId_group'].astype(int)\n",
    "total_data['PassengerId_member'] = total_data['PassengerId_member'].astype(int)\n",
    "total_data['Cabin_Num'] = total_data['Cabin_Num'].astype(int)"
   ]
  },
  {
   "cell_type": "code",
   "execution_count": 36,
   "id": "cf92377f",
   "metadata": {},
   "outputs": [
    {
     "data": {
      "text/plain": [
       "HomePlanet            0\n",
       "CryoSleep             0\n",
       "Destination           0\n",
       "Age                   0\n",
       "VIP                   0\n",
       "RoomService           0\n",
       "FoodCourt             0\n",
       "ShoppingMall          0\n",
       "Spa                   0\n",
       "VRDeck                0\n",
       "Cabin_Deck            0\n",
       "Cabin_Num             0\n",
       "Cabin_Side            0\n",
       "PassengerId_group     0\n",
       "PassengerId_member    0\n",
       "dtype: int64"
      ]
     },
     "execution_count": 36,
     "metadata": {},
     "output_type": "execute_result"
    }
   ],
   "source": [
    "X_train=total_data[:len(train)]\n",
    "X_test=total_data[len(train):]"
   ]
  },
  {
   "cell_type": "markdown",
   "id": "ab238230",
   "metadata": {},
   "source": [
    "---"
   ]
  },
  {
   "cell_type": "markdown",
   "id": "8e4aae9a",
   "metadata": {},
   "source": [
    "## 6. 머신러닝"
   ]
  },
  {
   "cell_type": "code",
   "execution_count": 37,
   "id": "f6bae6f3",
   "metadata": {},
   "outputs": [],
   "source": [
    "target=train['Transported']"
   ]
  },
  {
   "cell_type": "code",
   "execution_count": 38,
   "id": "f203aafa",
   "metadata": {},
   "outputs": [],
   "source": [
    "from sklearn.neighbors import KNeighborsClassifier\n",
    "from sklearn.tree import DecisionTreeClassifier\n",
    "from sklearn.ensemble import RandomForestClassifier\n",
    "from sklearn.naive_bayes import GaussianNB\n",
    "from sklearn.svm import SVC"
   ]
  },
  {
   "cell_type": "markdown",
   "id": "74d4dc4d",
   "metadata": {},
   "source": [
    "머신러닝에서 자주 사용되는 알고리즘 5개를 이용해 점수가 가장 높게 나오는 모델을 사용하겠습니다."
   ]
  },
  {
   "cell_type": "code",
   "execution_count": 39,
   "id": "3059e128",
   "metadata": {},
   "outputs": [],
   "source": [
    "from sklearn.model_selection import KFold\n",
    "from sklearn.model_selection import cross_val_score\n",
    "k_fold=KFold(n_splits=10,random_state=0,shuffle=True)"
   ]
  },
  {
   "cell_type": "markdown",
   "id": "579d6fe3",
   "metadata": {},
   "source": [
    "### 모델 평가"
   ]
  },
  {
   "cell_type": "code",
   "execution_count": 68,
   "id": "0e424db0",
   "metadata": {},
   "outputs": [
    {
     "name": "stdout",
     "output_type": "stream",
     "text": [
      "[0.77586207 0.74597701 0.74942529 0.78020713 0.75258918 0.7721519\n",
      " 0.79286536 0.78711162 0.78481013 0.77100115]\n"
     ]
    }
   ],
   "source": [
    "clf=KNeighborsClassifier(n_neighbors=26)\n",
    "score=cross_val_score(clf,X_train,target,cv=k_fold,n_jobs=1,scoring='accuracy')\n",
    "print(score)"
   ]
  },
  {
   "cell_type": "code",
   "execution_count": 69,
   "id": "1a5c09d0",
   "metadata": {},
   "outputs": [
    {
     "data": {
      "text/plain": [
       "77.12"
      ]
     },
     "execution_count": 69,
     "metadata": {},
     "output_type": "execute_result"
    }
   ],
   "source": [
    "round(np.mean(score)*100,2)"
   ]
  },
  {
   "cell_type": "markdown",
   "id": "8ef65893",
   "metadata": {},
   "source": [
    "K-최근접 이웃은 77.12점이 나왔습니다."
   ]
  },
  {
   "cell_type": "code",
   "execution_count": 70,
   "id": "2b6960a6",
   "metadata": {},
   "outputs": [
    {
     "name": "stdout",
     "output_type": "stream",
     "text": [
      "[0.73103448 0.74022989 0.74252874 0.75143843 0.73647871 0.72266974\n",
      " 0.73532796 0.75489068 0.75143843 0.72497123]\n"
     ]
    }
   ],
   "source": [
    "clf=DecisionTreeClassifier()\n",
    "score=cross_val_score(clf,X_train,target,cv=k_fold,n_jobs=1,scoring='accuracy')\n",
    "print(score)"
   ]
  },
  {
   "cell_type": "code",
   "execution_count": 71,
   "id": "bcd6c892",
   "metadata": {},
   "outputs": [
    {
     "data": {
      "text/plain": [
       "73.91"
      ]
     },
     "execution_count": 71,
     "metadata": {},
     "output_type": "execute_result"
    }
   ],
   "source": [
    "round(np.mean(score)*100,2)"
   ]
  },
  {
   "cell_type": "markdown",
   "id": "8dcd4f29",
   "metadata": {},
   "source": [
    "결정 트리는 73.91이 나왔습니다."
   ]
  },
  {
   "cell_type": "code",
   "execution_count": 92,
   "id": "f0abbed6",
   "metadata": {},
   "outputs": [
    {
     "name": "stdout",
     "output_type": "stream",
     "text": [
      "[0.8137931  0.78045977 0.80229885 0.79516686 0.79171461 0.8009206\n",
      " 0.78826237 0.80667434 0.81472957 0.77790564]\n"
     ]
    }
   ],
   "source": [
    "clf=RandomForestClassifier(n_estimators=26)\n",
    "score=cross_val_score(clf,X_train,target,cv=k_fold,n_jobs=1,scoring='accuracy')\n",
    "print(score)"
   ]
  },
  {
   "cell_type": "code",
   "execution_count": 93,
   "id": "60def25b",
   "metadata": {},
   "outputs": [
    {
     "data": {
      "text/plain": [
       "79.72"
      ]
     },
     "execution_count": 93,
     "metadata": {},
     "output_type": "execute_result"
    }
   ],
   "source": [
    "round(np.mean(score)*100,2)"
   ]
  },
  {
   "cell_type": "markdown",
   "id": "97ec79c7",
   "metadata": {},
   "source": [
    "랜덤 포레스트는 **79.72점**이 나왔습니다."
   ]
  },
  {
   "cell_type": "code",
   "execution_count": 94,
   "id": "b430982b",
   "metadata": {},
   "outputs": [
    {
     "name": "stdout",
     "output_type": "stream",
     "text": [
      "[0.70229885 0.69655172 0.68735632 0.71806674 0.70080552 0.71116226\n",
      " 0.72036824 0.73532796 0.72382048 0.69965478]\n"
     ]
    }
   ],
   "source": [
    "clf=GaussianNB()\n",
    "score=cross_val_score(clf,X_train,target,cv=k_fold,n_jobs=1,scoring='accuracy')\n",
    "print(score)"
   ]
  },
  {
   "cell_type": "code",
   "execution_count": 95,
   "id": "c1911e3b",
   "metadata": {},
   "outputs": [
    {
     "data": {
      "text/plain": [
       "70.95"
      ]
     },
     "execution_count": 95,
     "metadata": {},
     "output_type": "execute_result"
    }
   ],
   "source": [
    "round(np.mean(score)*100,2)"
   ]
  },
  {
   "cell_type": "markdown",
   "id": "b043adc8",
   "metadata": {},
   "source": [
    "가우시안 나이브 베이즈는 70.95점이 나왔습니다."
   ]
  },
  {
   "cell_type": "code",
   "execution_count": 96,
   "id": "d8e0087e",
   "metadata": {},
   "outputs": [
    {
     "name": "stdout",
     "output_type": "stream",
     "text": [
      "[0.77011494 0.77241379 0.77701149 0.79056387 0.75143843 0.77790564\n",
      " 0.78711162 0.7986191  0.7721519  0.78365938]\n"
     ]
    }
   ],
   "source": [
    "clf=SVC()\n",
    "score=cross_val_score(clf,X_train,target,cv=k_fold,n_jobs=1,scoring='accuracy')\n",
    "print(score)"
   ]
  },
  {
   "cell_type": "code",
   "execution_count": 97,
   "id": "bee8af5a",
   "metadata": {},
   "outputs": [
    {
     "data": {
      "text/plain": [
       "77.81"
      ]
     },
     "execution_count": 97,
     "metadata": {},
     "output_type": "execute_result"
    }
   ],
   "source": [
    "round(np.mean(score)*100,2)"
   ]
  },
  {
   "cell_type": "markdown",
   "id": "2ade9eef",
   "metadata": {},
   "source": [
    "서포트 벡터 머신은 77.81점이 나왔습니다."
   ]
  },
  {
   "cell_type": "code",
   "execution_count": 98,
   "id": "25cb0030",
   "metadata": {},
   "outputs": [],
   "source": [
    "clf=RandomForestClassifier(n_estimators=26)\n",
    "clf.fit(X_train, target)\n",
    "prediction=clf.predict(X_test)"
   ]
  },
  {
   "cell_type": "code",
   "execution_count": 99,
   "id": "a40a1093",
   "metadata": {},
   "outputs": [],
   "source": [
    "submission=pd.DataFrame({\n",
    "    \"PassengerId\":test['PassengerId'],\n",
    "    'Transported':prediction\n",
    "    })\n",
    "submission.to_csv(path_or_buf='/Users/gyol/Documents/Kaggle/spaceship-titanic/submission.csv',index=False)"
   ]
  },
  {
   "cell_type": "code",
   "execution_count": 100,
   "id": "b97e410e",
   "metadata": {},
   "outputs": [
    {
     "data": {
      "text/html": [
       "<div>\n",
       "<style scoped>\n",
       "    .dataframe tbody tr th:only-of-type {\n",
       "        vertical-align: middle;\n",
       "    }\n",
       "\n",
       "    .dataframe tbody tr th {\n",
       "        vertical-align: top;\n",
       "    }\n",
       "\n",
       "    .dataframe thead th {\n",
       "        text-align: right;\n",
       "    }\n",
       "</style>\n",
       "<table border=\"1\" class=\"dataframe\">\n",
       "  <thead>\n",
       "    <tr style=\"text-align: right;\">\n",
       "      <th></th>\n",
       "      <th>PassengerId</th>\n",
       "      <th>Transported</th>\n",
       "    </tr>\n",
       "  </thead>\n",
       "  <tbody>\n",
       "    <tr>\n",
       "      <th>0</th>\n",
       "      <td>0013_01</td>\n",
       "      <td>True</td>\n",
       "    </tr>\n",
       "    <tr>\n",
       "      <th>1</th>\n",
       "      <td>0018_01</td>\n",
       "      <td>False</td>\n",
       "    </tr>\n",
       "    <tr>\n",
       "      <th>2</th>\n",
       "      <td>0019_01</td>\n",
       "      <td>True</td>\n",
       "    </tr>\n",
       "    <tr>\n",
       "      <th>3</th>\n",
       "      <td>0021_01</td>\n",
       "      <td>True</td>\n",
       "    </tr>\n",
       "    <tr>\n",
       "      <th>4</th>\n",
       "      <td>0023_01</td>\n",
       "      <td>False</td>\n",
       "    </tr>\n",
       "  </tbody>\n",
       "</table>\n",
       "</div>"
      ],
      "text/plain": [
       "  PassengerId  Transported\n",
       "0     0013_01         True\n",
       "1     0018_01        False\n",
       "2     0019_01         True\n",
       "3     0021_01         True\n",
       "4     0023_01        False"
      ]
     },
     "execution_count": 100,
     "metadata": {},
     "output_type": "execute_result"
    }
   ],
   "source": [
    "submission.head()"
   ]
  },
  {
   "cell_type": "markdown",
   "id": "3c666551",
   "metadata": {},
   "source": [
    "## 7. 결론"
   ]
  },
  {
   "cell_type": "code",
   "execution_count": 105,
   "id": "3393f386",
   "metadata": {},
   "outputs": [
    {
     "data": {
      "image/jpeg": "[encoded data removed]",
      "text/plain": [
       "<IPython.core.display.Image object>"
      ]
     },
     "execution_count": 105,
     "metadata": {},
     "output_type": "execute_result"
    }
   ],
   "source": [
    "from IPython.display import Image\n",
    "Image(\"/Users/gyol/Documents/Kaggle/spaceship-titanic/result.jpg\")"
   ]
  },
  {
   "cell_type": "markdown",
   "id": "3fb7ed16",
   "metadata": {},
   "source": [
    "Kaggle에 제출했을 때 **0.79354점**을 받았고, 등수는 **총 2076팀 중 974등**으로 마무리 되었습니다. 첫 번째 시도에서는 사용하지 않았던 PassengerId 나 Cabin 열까지 사용을 했으나 점수의 큰 변화는 가질 수 없었습니다. 수치형 데이터의 값을 Median 말고 좀 더 합리적으로 결측치를 채우는 방법을 고안해야 할 것 같습니다. 그리고 수치형 데이터는 범주형에 비해 숫자의 크기가 매우 커서 데이터의 크기를 알맞게 맞추는 방법을 연구해야 할 것 같습니다."
   ]
  }
 ],
 "metadata": {
  "kernelspec": {
   "display_name": "Python 3 (ipykernel)",
   "language": "python",
   "name": "python3"
  },
  "language_info": {
   "codemirror_mode": {
    "name": "ipython",
    "version": 3
   },
   "file_extension": ".py",
   "mimetype": "text/x-python",
   "name": "python",
   "nbconvert_exporter": "python",
   "pygments_lexer": "ipython3",
   "version": "3.11.3"
  }
 },
 "nbformat": 4,
 "nbformat_minor": 5
}
